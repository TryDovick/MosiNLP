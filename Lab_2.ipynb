{
  "cells": [
    {
      "cell_type": "markdown",
      "metadata": {
        "id": "view-in-github",
        "colab_type": "text"
      },
      "source": [
        "<a href=\"https://colab.research.google.com/github/TryDovick/MosiNLP/blob/main/%D0%94%D0%BE%D0%B1%D1%80%D0%BE_%D0%BF%D0%BE%D0%B6%D0%B0%D0%BB%D0%BE%D0%B2%D0%B0%D1%82%D1%8C_%D0%B2_Colab!.ipynb\" target=\"_parent\"><img src=\"https://colab.research.google.com/assets/colab-badge.svg\" alt=\"Open In Colab\"/></a>"
      ]
    },
    {
      "cell_type": "markdown",
      "source": [
        "Классические методы преобразования текста"
      ],
      "metadata": {
        "id": "Cs3bWkeDg9h3"
      }
    },
    {
      "cell_type": "markdown",
      "source": [
        "Установка библиотек"
      ],
      "metadata": {
        "id": "XUvyGVdHhFN8"
      }
    },
    {
      "cell_type": "code",
      "source": [
        "!pip install pymorphy3"
      ],
      "metadata": {
        "colab": {
          "base_uri": "https://localhost:8080/"
        },
        "id": "4tDWj9a-hZmz",
        "outputId": "b80f192c-d43c-4b6f-81ce-c6316eb0bf99"
      },
      "execution_count": null,
      "outputs": [
        {
          "output_type": "stream",
          "name": "stdout",
          "text": [
            "Requirement already satisfied: pymorphy3 in /usr/local/lib/python3.11/dist-packages (2.0.3)\n",
            "Requirement already satisfied: dawg2-python>=0.8.0 in /usr/local/lib/python3.11/dist-packages (from pymorphy3) (0.9.0)\n",
            "Requirement already satisfied: pymorphy3-dicts-ru in /usr/local/lib/python3.11/dist-packages (from pymorphy3) (2.4.417150.4580142)\n"
          ]
        }
      ]
    },
    {
      "cell_type": "code",
      "source": [
        "import pymorphy3\n",
        "import nltk\n",
        "from nltk.tokenize import word_tokenize\n",
        "from nltk.corpus import stopwords\n",
        "import math\n",
        "from nltk.stem import SnowballStemmer\n",
        "from nltk.tokenize import word_tokenize\n",
        "from nltk.corpus import stopwords\n",
        "import pandas as pd\n",
        "import numpy as np\n",
        "from math import log"
      ],
      "metadata": {
        "id": "uXB7ZKXnhNS0"
      },
      "execution_count": null,
      "outputs": []
    },
    {
      "cell_type": "markdown",
      "source": [
        "Установка ресурсов nltk"
      ],
      "metadata": {
        "id": "O0jNk__1hSpz"
      }
    },
    {
      "cell_type": "code",
      "source": [
        "nltk.download('punkt_tab')\n",
        "nltk.download('stopwords')"
      ],
      "metadata": {
        "colab": {
          "base_uri": "https://localhost:8080/"
        },
        "id": "PDMHkj41hIc2",
        "outputId": "4a01e833-0f08-4bed-b676-21e105246f3c"
      },
      "execution_count": null,
      "outputs": [
        {
          "output_type": "stream",
          "name": "stderr",
          "text": [
            "[nltk_data] Downloading package punkt_tab to /root/nltk_data...\n",
            "[nltk_data]   Package punkt_tab is already up-to-date!\n",
            "[nltk_data] Downloading package stopwords to /root/nltk_data...\n",
            "[nltk_data]   Package stopwords is already up-to-date!\n"
          ]
        },
        {
          "output_type": "execute_result",
          "data": {
            "text/plain": [
              "True"
            ]
          },
          "metadata": {},
          "execution_count": 46
        }
      ]
    },
    {
      "cell_type": "markdown",
      "source": [
        "Текст ввода"
      ],
      "metadata": {
        "id": "sKBwovtIhiaC"
      }
    },
    {
      "cell_type": "code",
      "source": [
        "text = [\"Хеш-таблица хранит данные в виде ключ-значение\",\n",
        "        \"Полиморфизм позволяет использовать один интерфейс для разных типов\",\n",
        "        \"Рекурсия — это вызов функцией самой себя\"\n",
        "        ]"
      ],
      "metadata": {
        "id": "qZz4ptoBhkRT"
      },
      "execution_count": null,
      "outputs": []
    },
    {
      "cell_type": "markdown",
      "source": [
        "Лемантизация и токенизация"
      ],
      "metadata": {
        "id": "9DZ7MT5GinJo"
      }
    },
    {
      "cell_type": "code",
      "source": [
        "def preprocessing(text: list[str]) -> list[list[str]]:\n",
        "    stemmer = SnowballStemmer(\"russian\")  # Используем стеммер для русского языка\n",
        "    stop_words = set(stopwords.words(\"russian\"))  # Русские стоп-слова\n",
        "    preprocessed_texts = []\n",
        "\n",
        "    for text in text:\n",
        "        tokens = word_tokenize(text.lower(), language='russian')  # Токенизация с указанием языка\n",
        "        tokens = [word for word in tokens if word.isalnum() and word not in stop_words]  # Фильтрация\n",
        "        tokens = [stemmer.stem(word) for word in tokens]  # Стемминг для русского языка\n",
        "        preprocessed_texts.append(tokens)\n",
        "\n",
        "    return preprocessed_texts\n",
        "preprocessed_texts = preprocessing(text)"
      ],
      "metadata": {
        "id": "Y0BBOCtfin7D"
      },
      "execution_count": null,
      "outputs": []
    },
    {
      "cell_type": "code",
      "source": [
        "preprocessing(text)"
      ],
      "metadata": {
        "colab": {
          "base_uri": "https://localhost:8080/"
        },
        "id": "a0ICCu_PjMoj",
        "outputId": "cd9a9efc-0923-408b-dda5-a119d4614faa"
      },
      "execution_count": null,
      "outputs": [
        {
          "output_type": "execute_result",
          "data": {
            "text/plain": [
              "[['хран', 'дан', 'вид'],\n",
              " ['полиморфизм', 'позволя', 'использова', 'интерфейс', 'разн', 'тип'],\n",
              " ['рекурс', 'эт', 'выз', 'функц', 'сам']]"
            ]
          },
          "metadata": {},
          "execution_count": 49
        }
      ]
    },
    {
      "cell_type": "markdown",
      "source": [
        "Векторизация"
      ],
      "metadata": {
        "id": "_mexKrI0jiOD"
      }
    },
    {
      "cell_type": "code",
      "source": [
        "def make_dict(texе: list[str]) -> dict:\n",
        "    preprocessed_texts = preprocessing(text)\n",
        "    vocab = sorted(set(word for text in preprocessed_texts for word in text))\n",
        "    return {i: word for i, word in enumerate(vocab)}"
      ],
      "metadata": {
        "id": "Wwwgb7WEjlL4"
      },
      "execution_count": null,
      "outputs": []
    },
    {
      "cell_type": "code",
      "source": [
        "make_dict(text)"
      ],
      "metadata": {
        "colab": {
          "base_uri": "https://localhost:8080/"
        },
        "id": "6okw5pzbjqJC",
        "outputId": "7ff312ed-cc4c-465b-871e-ddca2432543d"
      },
      "execution_count": null,
      "outputs": [
        {
          "output_type": "execute_result",
          "data": {
            "text/plain": [
              "{0: 'вид',\n",
              " 1: 'выз',\n",
              " 2: 'дан',\n",
              " 3: 'интерфейс',\n",
              " 4: 'использова',\n",
              " 5: 'позволя',\n",
              " 6: 'полиморфизм',\n",
              " 7: 'разн',\n",
              " 8: 'рекурс',\n",
              " 9: 'сам',\n",
              " 10: 'тип',\n",
              " 11: 'функц',\n",
              " 12: 'хран',\n",
              " 13: 'эт'}"
            ]
          },
          "metadata": {},
          "execution_count": 51
        }
      ]
    },
    {
      "cell_type": "markdown",
      "source": [
        "Bag of Words"
      ],
      "metadata": {
        "id": "_U9KJjGxkBiE"
      }
    },
    {
      "cell_type": "code",
      "source": [
        "unique_words = []\n",
        "for sublist in preprocessed_texts:\n",
        "    for word in sublist:\n",
        "        if word not in unique_words:\n",
        "            unique_words.append(word)\n",
        "unique_words = sorted(unique_words)\n",
        "print(unique_words)"
      ],
      "metadata": {
        "colab": {
          "base_uri": "https://localhost:8080/"
        },
        "id": "JYeLQGYykCOe",
        "outputId": "b755663b-2595-41a9-b449-38922b191ecd"
      },
      "execution_count": null,
      "outputs": [
        {
          "output_type": "stream",
          "name": "stdout",
          "text": [
            "['вид', 'выз', 'дан', 'интерфейс', 'использова', 'позволя', 'полиморфизм', 'разн', 'рекурс', 'сам', 'тип', 'функц', 'хран', 'эт']\n"
          ]
        }
      ]
    },
    {
      "cell_type": "code",
      "source": [
        "make_dict(text)"
      ],
      "metadata": {
        "colab": {
          "base_uri": "https://localhost:8080/"
        },
        "id": "-UHwwGrbkI3u",
        "outputId": "a987fdef-41b0-48dc-a769-bc2c75ae457d"
      },
      "execution_count": null,
      "outputs": [
        {
          "output_type": "execute_result",
          "data": {
            "text/plain": [
              "{0: 'вид',\n",
              " 1: 'выз',\n",
              " 2: 'дан',\n",
              " 3: 'интерфейс',\n",
              " 4: 'использова',\n",
              " 5: 'позволя',\n",
              " 6: 'полиморфизм',\n",
              " 7: 'разн',\n",
              " 8: 'рекурс',\n",
              " 9: 'сам',\n",
              " 10: 'тип',\n",
              " 11: 'функц',\n",
              " 12: 'хран',\n",
              " 13: 'эт'}"
            ]
          },
          "metadata": {},
          "execution_count": 31
        }
      ]
    },
    {
      "cell_type": "markdown",
      "source": [
        "Создаем матрицу мешка слов"
      ],
      "metadata": {
        "id": "heWd2QP7omXL"
      }
    },
    {
      "cell_type": "code",
      "source": [
        "def bag_of_words(tokenized_texts: list[list[str]], vocabulary: list[str]) -> np.ndarray:\n",
        "\n",
        "    matrix = []\n",
        "    for sublist in tokenized_texts:\n",
        "        vector = [sublist.count(word) for word in vocabulary]\n",
        "        matrix.append(vector)\n",
        "    return np.array(matrix)\n",
        "\n",
        "bow_matrix = bag_of_words(preprocessed_texts, unique_words)\n",
        "print(bow_matrix)"
      ],
      "metadata": {
        "colab": {
          "base_uri": "https://localhost:8080/"
        },
        "id": "KfTOLjqFoJ3Q",
        "outputId": "7e6c426d-a02d-4f9a-913d-1f57c36e362c"
      },
      "execution_count": null,
      "outputs": [
        {
          "output_type": "stream",
          "name": "stdout",
          "text": [
            "[[1 0 1 0 0 0 0 0 0 0 0 0 1 0]\n",
            " [0 0 0 1 1 1 1 1 0 0 1 0 0 0]\n",
            " [0 1 0 0 0 0 0 0 1 1 0 1 0 1]]\n"
          ]
        }
      ]
    },
    {
      "cell_type": "markdown",
      "source": [
        "TF-IDF"
      ],
      "metadata": {
        "id": "BRW3Lz3lounk"
      }
    },
    {
      "cell_type": "markdown",
      "source": [
        "Рассчитываем TF-IDF матрицу"
      ],
      "metadata": {
        "id": "pTmqmKa4pHTS"
      }
    },
    {
      "cell_type": "code",
      "source": [
        "def manual_tfidf(bow_matrix):\n",
        "\n",
        "    tf = bow_matrix / (bow_matrix.sum(axis=1, keepdims=True))\n",
        "\n",
        "    idf = np.array([log(len(bow_matrix) / (1 + np.count_nonzero(bow_matrix[:, i]))) for i in range(bow_matrix.shape[1])])\n",
        "\n",
        "    tfidf = tf * idf\n",
        "    return tfidf\n",
        "tfidf_matrix = manual_tfidf(bow_matrix)\n",
        "print(np.round(tfidf_matrix, 8)) # Можно сделать меньше для лучшей читаемости"
      ],
      "metadata": {
        "colab": {
          "base_uri": "https://localhost:8080/"
        },
        "id": "KB_HCe4NovCP",
        "outputId": "8b3451a0-bdc1-4897-80fb-ab7efc4204da"
      },
      "execution_count": null,
      "outputs": [
        {
          "output_type": "stream",
          "name": "stdout",
          "text": [
            "[[0.13515504 0.         0.13515504 0.         0.         0.\n",
            "  0.         0.         0.         0.         0.         0.\n",
            "  0.13515504 0.        ]\n",
            " [0.         0.         0.         0.06757752 0.06757752 0.06757752\n",
            "  0.06757752 0.06757752 0.         0.         0.06757752 0.\n",
            "  0.         0.        ]\n",
            " [0.         0.08109302 0.         0.         0.         0.\n",
            "  0.         0.         0.08109302 0.08109302 0.         0.08109302\n",
            "  0.         0.08109302]]\n"
          ]
        }
      ]
    }
  ],
  "metadata": {
    "colab": {
      "name": "Добро пожаловать в Colab!",
      "toc_visible": true,
      "provenance": [],
      "include_colab_link": true
    },
    "kernelspec": {
      "display_name": "Python 3",
      "name": "python3"
    }
  },
  "nbformat": 4,
  "nbformat_minor": 0
}
