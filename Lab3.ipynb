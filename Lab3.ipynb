{
  "nbformat": 4,
  "nbformat_minor": 0,
  "metadata": {
    "colab": {
      "provenance": [],
      "authorship_tag": "ABX9TyNSSb4B/Lja6UFmsGYEAkhh",
      "include_colab_link": true
    },
    "kernelspec": {
      "name": "python3",
      "display_name": "Python 3"
    },
    "language_info": {
      "name": "python"
    }
  },
  "cells": [
    {
      "cell_type": "markdown",
      "metadata": {
        "id": "view-in-github",
        "colab_type": "text"
      },
      "source": [
        "<a href=\"https://colab.research.google.com/github/TryDovick/MosiNLP/blob/main/Lab3.ipynb\" target=\"_parent\"><img src=\"https://colab.research.google.com/assets/colab-badge.svg\" alt=\"Open In Colab\"/></a>"
      ]
    },
    {
      "cell_type": "markdown",
      "source": [
        "Подключаем библиотеки"
      ],
      "metadata": {
        "id": "YlzSr0jb18Jo"
      }
    },
    {
      "cell_type": "code",
      "execution_count": 9,
      "metadata": {
        "id": "kIUS0H-s1ys2"
      },
      "outputs": [],
      "source": [
        "import numpy as np\n",
        "from sklearn.preprocessing import StandardScaler"
      ]
    },
    {
      "cell_type": "markdown",
      "source": [
        "Функции активации\n"
      ],
      "metadata": {
        "id": "RinorqGM34YI"
      }
    },
    {
      "cell_type": "code",
      "source": [
        "#ReLU (Rectified Linear Unit)\n",
        "#Возвращает 0 для отрицательных входов и сам вход для положительных\n",
        "def relu(x):\n",
        "    return np.maximum(0, x)\n",
        ""
      ],
      "metadata": {
        "id": "YWeBma4W3zCg"
      },
      "execution_count": 2,
      "outputs": []
    },
    {
      "cell_type": "markdown",
      "source": [],
      "metadata": {
        "id": "sChBZ5Oz34uB"
      }
    },
    {
      "cell_type": "code",
      "source": [
        "#Производная ReLU\n",
        "#Возвращает 1 для положительных входов и 0 для отрицательных\n",
        "def relu_derivative(x):\n",
        "    return (x > 0).astype(float)"
      ],
      "metadata": {
        "id": "xbxYu5-W31Yt"
      },
      "execution_count": 3,
      "outputs": []
    },
    {
      "cell_type": "code",
      "source": [
        "def softmax(x):\n",
        "    exp_scores = np.exp(x - np.max(x, axis=1, keepdims=True))\n",
        "    return exp_scores / np.sum(exp_scores, axis=1, keepdims=True)"
      ],
      "metadata": {
        "id": "VIVGAZJW5V28"
      },
      "execution_count": 4,
      "outputs": []
    },
    {
      "cell_type": "code",
      "source": [
        "class GuitarClassifier:\n",
        "\n",
        "\n",
        "    def __init__(self, input_size=5, hidden_size=6, output_size=3):\n",
        "        # Инициализация весов (метод He)\n",
        "        self.W1 = np.random.randn(input_size, hidden_size) * np.sqrt(2./input_size)\n",
        "        self.b1 = np.zeros((1, hidden_size))\n",
        "        self.W2 = np.random.randn(hidden_size, output_size) * np.sqrt(2./hidden_size)\n",
        "\n",
        "        self.b2 = np.zeros((1, output_size))\n",
        "\n",
        "    def forward(self, X):\n",
        "\n",
        "        self.z1 = np.dot(X, self.W1) + self.b1\n",
        "        self.a1 = relu(self.z1)\n",
        "        self.z2 = np.dot(self.a1, self.W2) + self.b2\n",
        "        self.probs = softmax(self.z2)\n",
        "        return self.probs\n",
        "\n",
        "    def backward(self, X, y, learning_rate=0.01):\n",
        "        m = X.shape[0]  # количество примеров\n",
        "\n",
        "        # Градиенты выходного слоя\n",
        "        delta3 = self.probs\n",
        "        delta3[range(m), y] -= 1\n",
        "        delta3 /= m\n",
        "\n",
        "\n",
        "        # Градиенты скрытого слоя\n",
        "        dW2 = np.dot(self.a1.T, delta3)\n",
        "        db2 = np.sum(delta3, axis=0, keepdims=True)\n",
        "        delta2 = np.dot(delta3, self.W2.T) * relu_derivative(self.z1)\n",
        "\n",
        "        # Градиенты входного слоя\n",
        "        dW1 = np.dot(X.T, delta2)\n",
        "        db1 = np.sum(delta2, axis=0)\n",
        "\n",
        "        # Обновление весов\n",
        "        self.W2 -= learning_rate * dW2\n",
        "        self.b2 -= learning_rate * db2\n",
        "        self.W1 -= learning_rate * dW1\n",
        "        self.b1 -= learning_rate * db1\n",
        "\n",
        "    def train(self, X, y, epochs=5000, batch_size=16):\n",
        "        for epoch in range(epochs):\n",
        "            # Мини-пакетный градиентный спуск\n",
        "            indices = np.random.permutation(len(X))\n",
        "            X_shuffled = X[indices]\n",
        "            y_shuffled = y[indices]\n",
        "\n",
        "            for i in range(0, len(X), batch_size):\n",
        "                X_batch = X_shuffled[i:i+batch_size]\n",
        "                y_batch = y_shuffled[i:i+batch_size]\n",
        "\n",
        "                self.forward(X_batch)\n",
        "                self.backward(X_batch, y_batch)\n",
        "\n",
        "            # Логирование каждые 500 эпох\n",
        "            if epoch % 500 == 0:\n",
        "                probs = self.forward(X)\n",
        "                loss = -np.mean(np.log(probs[range(len(X)), y]))\n",
        "                preds = np.argmax(probs, axis=1)\n",
        "                accuracy = np.mean(preds == y)\n",
        "                print(f\"Epoch {epoch}: Loss = {loss:.4f}, Accuracy = {accuracy:.4f}\")\n",
        "\n",
        "    def predict(self, X):\n",
        "        probs = self.forward(X)\n",
        "        return np.argmax(probs, axis=1)\n",
        "\n"
      ],
      "metadata": {
        "id": "bTF2aGYo4bti"
      },
      "execution_count": 11,
      "outputs": []
    },
    {
      "cell_type": "markdown",
      "source": [
        "Созадем список данных"
      ],
      "metadata": {
        "id": "2p0_btQL6uPT"
      }
    },
    {
      "cell_type": "code",
      "source": [
        "X = np.array([\n",
        "    [6, 25.5, 43, 1.5, 0],  # Акустическая\n",
        "    [6, 24.75, 42, 3.2, 1],  # Электрогитара\n",
        "    [4, 34, 45, 4.1, 1],     # Бас-гитара\n",
        "    [12, 25.5, 48, 2.1, 0],  # 12-струнная акустическая\n",
        "    [6, 25.5, 43, 3.5, 1],   # Полуакустическая\n",
        "    [5, 30, 44, 3.8, 1],     # 5-струнный бас\n",
        "    [6, 24.75, 41, 3.1, 1],  # Электрогитара\n",
        "    [4, 32, 46, 4.0, 1],     # Бас-гитара\n",
        "    [6, 25.5, 43, 1.7, 0],   # Акустическая\n",
        "    [7, 26.5, 44, 3.6, 1]    # 7-струнная электрогитара\n",
        "])\n",
        "\n",
        "y = np.array([0, 1, 2, 0, 1, 2, 1, 2, 0, 1])\n"
      ],
      "metadata": {
        "id": "--b98D1K5k1u"
      },
      "execution_count": 6,
      "outputs": []
    },
    {
      "cell_type": "code",
      "source": [
        "# Нормализация данных\n",
        "scaler = StandardScaler()\n",
        "X_normalized = scaler.fit_transform(X)\n",
        "\n",
        "# обучаем модель\n",
        "model = GuitarClassifier(input_size=5, hidden_size=6, output_size=3)\n",
        "model.train(X_normalized, y, epochs=3000)\n",
        "\n",
        "# Тут я создал примеры, какие типы гитар должны быть выведены\n",
        "test_guitars = np.array([\n",
        "    [6, 25.0, 42, 1.6, 0],  #Акустическая\n",
        "    [6, 24.5, 42, 3.3, 1],  #Электрогитара\n",
        "    [5, 32, 45, 4.2, 1]     #5-струнный бас\n",
        "])\n",
        "\n",
        "test_guitars_normalized = scaler.transform(test_guitars)\n",
        "predictions = model.predict(test_guitars_normalized)\n",
        "\n",
        "# Выводим результаты\n",
        "guitar_types = ['Акустическая', 'Электрогитара', 'Бас-гитара']\n",
        "for i, guitar in enumerate(test_guitars):\n",
        "    print(f\"Гитара {i+1}: {guitar} => {guitar_types[predictions[i]]}\")"
      ],
      "metadata": {
        "colab": {
          "base_uri": "https://localhost:8080/"
        },
        "id": "O6rR7CwV5pQy",
        "outputId": "bf0b66b4-7e2d-4800-8e4b-27ebbda25a90"
      },
      "execution_count": 10,
      "outputs": [
        {
          "output_type": "stream",
          "name": "stdout",
          "text": [
            "Epoch 0: Loss = 1.6228, Accuracy = 0.0000\n",
            "Epoch 500: Loss = 0.2768, Accuracy = 1.0000\n",
            "Epoch 1000: Loss = 0.1389, Accuracy = 1.0000\n",
            "Epoch 1500: Loss = 0.0832, Accuracy = 1.0000\n",
            "Epoch 2000: Loss = 0.0548, Accuracy = 1.0000\n",
            "Epoch 2500: Loss = 0.0382, Accuracy = 1.0000\n",
            "Гитара 1: [ 6.  25.  42.   1.6  0. ] => Акустическая\n",
            "Гитара 2: [ 6.  24.5 42.   3.3  1. ] => Электрогитара\n",
            "Гитара 3: [ 5.  32.  45.   4.2  1. ] => Бас-гитара\n"
          ]
        }
      ]
    }
  ]
}